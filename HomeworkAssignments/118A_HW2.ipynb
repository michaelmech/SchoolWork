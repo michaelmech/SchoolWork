{
 "cells": [
  {
   "cell_type": "code",
   "execution_count": 35,
   "metadata": {},
   "outputs": [],
   "source": [
    "import pandas as pd\n",
    "from sklearn import datasets\n",
    "from mpl_toolkits.mplot3d import Axes3D\n",
    "import numpy as np\n",
    "iris=datasets.load_iris()\n",
    "X=iris.data\n",
    "Y=iris.target\n",
    "iris_X=pd.DataFrame(iris.data,columns=iris.feature_names)"
   ]
  },
  {
   "cell_type": "markdown",
   "metadata": {},
   "source": [
    "## 4.##"
   ]
  },
  {
   "cell_type": "code",
   "execution_count": 56,
   "metadata": {},
   "outputs": [
    {
     "name": "stdout",
     "output_type": "stream",
     "text": [
      "[5.02666667 3.45       1.47333333 0.24666667] [5.35       3.22       2.42       0.62333333] [5.98 2.75 4.3  1.34] [6.25333333 2.85666667 5.11333333 1.77333333] [6.60666667 3.01       5.48333333 2.01333333]\n"
     ]
    }
   ],
   "source": [
    "#1\n",
    "Group1=X[0:30] \n",
    "Group2=X[30:60]\n",
    "Group3=X[60:90]\n",
    "Group4=X[90:120]\n",
    "Group5=X[120:]\n",
    "\n",
    "g1mu=np.mean(Group1,axis=0)\n",
    "g2mu=np.mean(Group2,axis=0)\n",
    "g3mu=np.mean(Group3,axis=0)\n",
    "g4mu=np.mean(Group4,axis=0)\n",
    "g5mu=np.mean(Group5,axis=0)\n",
    "print(g1mu,g2mu,g3mu,g4mu,g5mu)"
   ]
  },
  {
   "cell_type": "code",
   "execution_count": 84,
   "metadata": {},
   "outputs": [
    {
     "name": "stdout",
     "output_type": "stream",
     "text": [
      "[5.84333333 3.758     ]\n"
     ]
    }
   ],
   "source": [
    "#2\n",
    "new_X=np.delete(X,obj=1,axis=1)\n",
    "new_X=np.delete(new_X,obj=2,axis=1)\n",
    "newXmu=np.mean(new_X,axis=0)\n",
    "print(newXmu)\n"
   ]
  },
  {
   "cell_type": "code",
   "execution_count": 122,
   "metadata": {},
   "outputs": [
    {
     "data": {
      "text/plain": [
       "array([5.8       , 3.05928571, 3.64571429, 1.13      ])"
      ]
     },
     "execution_count": 122,
     "metadata": {},
     "output_type": "execute_result"
    }
   ],
   "source": [
    "#3\n",
    "newer_X=np.delete(X,obj=[range(140,150)],axis=0)\n",
    "newerXmu=np.mean(newer_X,axis=0)\n",
    "newerXmu"
   ]
  },
  {
   "cell_type": "markdown",
   "metadata": {},
   "source": []
  }
 ],
 "metadata": {
  "kernelspec": {
   "display_name": "Python 3",
   "language": "python",
   "name": "python3"
  },
  "language_info": {
   "codemirror_mode": {
    "name": "ipython",
    "version": 3
   },
   "file_extension": ".py",
   "mimetype": "text/x-python",
   "name": "python",
   "nbconvert_exporter": "python",
   "pygments_lexer": "ipython3",
   "version": "3.7.3"
  }
 },
 "nbformat": 4,
 "nbformat_minor": 2
}
