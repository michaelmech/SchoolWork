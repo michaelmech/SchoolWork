{
 "cells": [
  {
   "cell_type": "markdown",
   "metadata": {},
   "source": [
    "## SVM with Scikit-Learn"
   ]
  },
  {
   "cell_type": "code",
   "execution_count": 1,
   "metadata": {
    "ExecuteTime": {
     "end_time": "2020-02-12T04:07:19.542478Z",
     "start_time": "2020-02-12T04:07:18.413044Z"
    }
   },
   "outputs": [],
   "source": [
    "%config InlineBackend.figure_format = 'retina'\n",
    "import numpy as np\n",
    "import matplotlib.pyplot as plt\n",
    "from sklearn import datasets\n",
    "from sklearn import svm\n",
    "from sklearn.metrics import accuracy_score\n",
    "import seaborn as sns"
   ]
  },
  {
   "cell_type": "markdown",
   "metadata": {
    "heading_collapsed": true
   },
   "source": [
    "### Load the modified Iris dataset"
   ]
  },
  {
   "cell_type": "code",
   "execution_count": 2,
   "metadata": {
    "ExecuteTime": {
     "end_time": "2020-02-12T04:07:19.550921Z",
     "start_time": "2020-02-12T04:07:19.543913Z"
    },
    "hidden": true
   },
   "outputs": [
    {
     "name": "stdout",
     "output_type": "stream",
     "text": [
      "(150, 4)\n",
      "(150, 1)\n",
      "[ 5.8  4.   1.2  0.2 -1. ]\n"
     ]
    }
   ],
   "source": [
    "# Iris dataset.\n",
    "iris = datasets.load_iris()     # Load Iris dataset.\n",
    "\n",
    "X = iris.data                   # The shape of X is (150, 4), which means\n",
    "                                # there are 150 data points, each data point\n",
    "                                # has 4 features.\n",
    "\n",
    "# Here for convenience, we divide the 3 kinds of flowers into 2 groups: \n",
    "#     Y = 0 (or False):  Setosa (original value 0) / Versicolor (original value 1)\n",
    "#     Y = 1 (or True):   Virginica (original value 2)\n",
    "\n",
    "# Thus we use (iris.target > 1.5) to divide the targets into 2 groups. \n",
    "# This line of code will assign:\n",
    "#    Y[i] = True  (which is equivalent to 1) if iris.target[k]  > 1.5 (Virginica)\n",
    "#    Y[i] = False (which is equivalent to 0) if iris.target[k] <= 1.5 (Setosa / Versicolor)\n",
    "\n",
    "Y = (iris.target > 1.5).reshape(-1,1).astype(np.float) # The shape of Y is (150, 1), which means \n",
    "                                # there are 150 data points, each data point\n",
    "                                # has 1 target value. \n",
    "Y[Y==0] = -1\n",
    "\n",
    "X_and_Y = np.hstack((X, Y))     # Stack them together for shuffling.\n",
    "np.random.seed(1)               # Set the random seed.\n",
    "np.random.shuffle(X_and_Y)      # Shuffle the data points in X_and_Y array\n",
    "\n",
    "print(X.shape)\n",
    "print(Y.shape)\n",
    "print(X_and_Y[0])               # The result should be always: [ 5.8  4.   1.2  0.2  -1. ]"
   ]
  },
  {
   "cell_type": "code",
   "execution_count": 3,
   "metadata": {
    "ExecuteTime": {
     "end_time": "2020-02-12T04:07:19.572268Z",
     "start_time": "2020-02-12T04:07:19.552870Z"
    },
    "hidden": true
   },
   "outputs": [
    {
     "name": "stdout",
     "output_type": "stream",
     "text": [
      "(99, 2)\n",
      "(99,)\n",
      "(50, 2)\n",
      "(50,)\n"
     ]
    }
   ],
   "source": [
    "# Divide the data points into training set and test set.\n",
    "X_shuffled = X_and_Y[:,:4]\n",
    "Y_shuffled = X_and_Y[:,4]\n",
    "\n",
    "\n",
    "X_train = X_shuffled[:100][:,[3,1]] # Shape: (100,2)\n",
    "X_train = np.delete(X_train, 42, axis=0) # Remove a point for separability.\n",
    "Y_train = Y_shuffled[:100]          # Shape: (100,)\n",
    "Y_train = np.delete(Y_train, 42, axis=0) # Remove a point for separability.\n",
    "X_test = X_shuffled[100:][:,[3,1]]  # Shape: (50,2)\n",
    "Y_test = Y_shuffled[100:]           # Shape: (50,)\n",
    "print(X_train.shape)\n",
    "print(Y_train.shape)\n",
    "print(X_test.shape)\n",
    "print(Y_test.shape)"
   ]
  },
  {
   "cell_type": "markdown",
   "metadata": {},
   "source": [
    "### SVM with RBF Using Scikit-Learn"
   ]
  },
  {
   "cell_type": "code",
   "execution_count": 4,
   "metadata": {
    "ExecuteTime": {
     "end_time": "2020-02-12T04:07:19.593713Z",
     "start_time": "2020-02-12T04:07:19.574334Z"
    }
   },
   "outputs": [],
   "source": [
    "# Draw the heatmap of training errors.\n",
    "def draw_heatmap(training_errors, gamma_list, C_list):\n",
    "    # training_errors: A NumPy array with the shape (len(C_list), len(gamma_list))\n",
    "    # gamma_list: List of gamma(s).\n",
    "    # C_list: List of C(s).\n",
    "    plt.figure(figsize = (5,4))\n",
    "    ax = sns.heatmap(training_errors, annot=True, fmt='.3f', \n",
    "                     xticklabels=gamma_list, yticklabels=C_list)\n",
    "    ax.collections[0].colorbar.set_label(\"error\")\n",
    "    ax.set(xlabel = '$\\gamma$', ylabel='$C$')\n",
    "    plt.title('Training error w.r.t $C$ and $\\gamma$')\n",
    "    plt.show()\n",
    "    "
   ]
  },
  {
   "cell_type": "code",
   "execution_count": 5,
   "metadata": {},
   "outputs": [],
   "source": [
    "def calc_error(X, Y, classifier):\n",
    "    Y_pred = classifier.predict(X)\n",
    "    e = 1-accuracy_score(Y,Y_pred) \n",
    "    return e"
   ]
  },
  {
   "cell_type": "code",
   "execution_count": 49,
   "metadata": {
    "ExecuteTime": {
     "end_time": "2020-02-12T04:07:19.660456Z",
     "start_time": "2020-02-12T04:07:19.595421Z"
    },
    "scrolled": false
   },
   "outputs": [
    {
     "name": "stdout",
     "output_type": "stream",
     "text": [
      "Training error: 0.36363636363636365\n",
      "Training error: 0.36363636363636365\n",
      "Training error: 0.36363636363636365\n",
      "Training error: 0.36363636363636365\n",
      "Training error: 0.23232323232323238\n",
      "Training error: 0.36363636363636365\n",
      "Training error: 0.36363636363636365\n",
      "Training error: 0.36363636363636365\n",
      "Training error: 0.2222222222222222\n",
      "Training error: 0.010101010101010055\n",
      "Training error: 0.36363636363636365\n",
      "Training error: 0.36363636363636365\n",
      "Training error: 0.2222222222222222\n",
      "Training error: 0.010101010101010055\n",
      "Training error: 0.010101010101010055\n",
      "Training error: 0.36363636363636365\n",
      "Training error: 0.2222222222222222\n",
      "Training error: 0.010101010101010055\n",
      "Training error: 0.010101010101010055\n",
      "Training error: 0.010101010101010055\n",
      "Training error: 0.2222222222222222\n",
      "Training error: 0.010101010101010055\n",
      "Training error: 0.010101010101010055\n",
      "Training error: 0.010101010101010055\n",
      "Training error: 0.0\n"
     ]
    },
    {
     "data": {
      "image/png": "[encoded data removed]",
      "text/plain": [
       "<Figure size 360x288 with 2 Axes>"
      ]
     },
     "metadata": {
      "image/png": {
       "height": 278,
       "width": 335
      },
      "needs_background": "light"
     },
     "output_type": "display_data"
    },
    {
     "name": "stdout",
     "output_type": "stream",
     "text": [
      "Best parameter C* = 10000\n",
      "Best parameter G* = 0.01\n"
     ]
    }
   ],
   "source": [
    "C_list = [1, 10, 100, 1000, 10000]\n",
    "gamma_list = [1e-6, 1e-5, 1e-4, 1e-3, 1e-2]\n",
    "\n",
    "opt_e_training = 1.0   \n",
    "opt_classifier = None  \n",
    "opt_C      = None\n",
    "opt_g= None\n",
    "\n",
    "training_errors = []\n",
    "trainig_errors=np.asarray(training_errors)\n",
    "counter=0\n",
    "\n",
    "for C in C_list:\n",
    "    for gamma in gamma_list:\n",
    "        classifier=svm.SVC(C=C, kernel='rbf',gamma=gamma)\n",
    "        classifier.fit(X_train,Y_train)\n",
    "        \n",
    "       \n",
    "        \n",
    "        e_training = calc_error(X_train, Y_train, classifier)\n",
    "        training_errors.append(e_training)\n",
    "        counter=counter+1\n",
    "        print('Training error: {}'.format(e_training))\n",
    "        \n",
    "\n",
    "        if e_training < opt_e_training:\n",
    "            opt_e_training = e_training\n",
    "            opt_classifier = classifier\n",
    "            opt_C = C\n",
    "            opt_G= gamma\n",
    "\n",
    "training_errors=np.reshape(training_errors,(5,5))\n",
    "draw_heatmap(training_errors, gamma_list,C_list)\n",
    "print('Best parameter C* = {}'.format(opt_C))\n",
    "print('Best parameter G* = {}'.format(opt_G))"
   ]
  },
  {
   "cell_type": "code",
   "execution_count": 51,
   "metadata": {},
   "outputs": [
    {
     "name": "stdout",
     "output_type": "stream",
     "text": [
      "Testing error: 0.07999999999999996\n"
     ]
    }
   ],
   "source": [
    "#testing error\n",
    "classifier=svm.SVC(C=opt_C, kernel='rbf',gamma=opt_G)\n",
    "classifier.fit(X_test,Y_test)\n",
    "e_testing = calc_error(X_test, Y_test, classifier)\n",
    "print('Testing error: {}'.format(e_testing))"
   ]
  },
  {
   "cell_type": "code",
   "execution_count": null,
   "metadata": {},
   "outputs": [],
   "source": []
  }
 ],
 "metadata": {
  "kernelspec": {
   "display_name": "Python 3",
   "language": "python",
   "name": "python3"
  },
  "language_info": {
   "codemirror_mode": {
    "name": "ipython",
    "version": 3
   },
   "file_extension": ".py",
   "mimetype": "text/x-python",
   "name": "python",
   "nbconvert_exporter": "python",
   "pygments_lexer": "ipython3",
   "version": "3.7.3"
  },
  "toc": {
   "base_numbering": 1,
   "nav_menu": {
    "height": "84px",
    "width": "252px"
   },
   "number_sections": true,
   "sideBar": true,
   "skip_h1_title": false,
   "title_cell": "Table of Contents",
   "title_sidebar": "Contents",
   "toc_cell": false,
   "toc_position": {},
   "toc_section_display": "block",
   "toc_window_display": false
  }
 },
 "nbformat": 4,
 "nbformat_minor": 2
}
