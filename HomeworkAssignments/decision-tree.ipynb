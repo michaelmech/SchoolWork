{
 "cells": [
  {
   "cell_type": "markdown",
   "metadata": {},
   "source": [
    "## Decision Tree with Scikit-Learn"
   ]
  },
  {
   "cell_type": "code",
   "execution_count": 1,
   "metadata": {
    "ExecuteTime": {
     "end_time": "2020-02-18T00:22:35.957519Z",
     "start_time": "2020-02-18T00:22:35.087572Z"
    }
   },
   "outputs": [],
   "source": [
    "%config InlineBackend.figure_format = 'retina'\n",
    "import scipy.io as sio\n",
    "import matplotlib.pyplot as plt\n",
    "import numpy as np\n",
    "import seaborn as sns\n",
    "from sklearn import tree\n",
    "from sklearn import datasets\n",
    "from sklearn.metrics import accuracy_score\n",
    "from sklearn.model_selection import GridSearchCV"
   ]
  },
  {
   "cell_type": "markdown",
   "metadata": {},
   "source": [
    "### Load the Ionosphere dataset"
   ]
  },
  {
   "cell_type": "code",
   "execution_count": 2,
   "metadata": {
    "ExecuteTime": {
     "end_time": "2020-02-18T00:23:08.281902Z",
     "start_time": "2020-02-18T00:23:08.273249Z"
    },
    "scrolled": true
   },
   "outputs": [
    {
     "name": "stdout",
     "output_type": "stream",
     "text": [
      "(351, 34)\n",
      "(351,)\n",
      "[ 1.       0.      -0.205    0.2875   0.23     0.1      0.2825   0.3175\n",
      "  0.3225   0.35     0.36285 -0.34617  0.0925   0.275   -0.095    0.21\n",
      " -0.0875   0.235   -0.34187  0.31408 -0.48    -0.08     0.29908  0.33176\n",
      " -0.58    -0.24     0.3219  -0.28475 -0.47     0.185   -0.27104 -0.31228\n",
      "  0.40445  0.0305   1.     ]\n"
     ]
    }
   ],
   "source": [
    "# Ionosphere dataset.\n",
    "X_and_Y = np.load('ionosphere.npy').astype(np.float32) # Load data from file.\n",
    "\n",
    "np.random.seed(1)               # Set the random seed.\n",
    "np.random.shuffle(X_and_Y)      # Shuffle the data.\n",
    "X = X_and_Y[:, 0:-1]            # First column to second last column: Features. \n",
    "Y = X_and_Y[:, -1]              # Last column: Labels.\n",
    "Y[Y==0] = -1                    # Convert labels from {0, 1} to {-1, 1}.\n",
    "\n",
    "print(X.shape)      # (351, 34)\n",
    "print(Y.shape)      # (351,)\n",
    "print(X_and_Y[0])               \n",
    "# The result should be:\n",
    "# [ 1.       0.      -0.205    0.2875   0.23     0.1      0.2825   0.3175\n",
    "#   0.3225   0.35     0.36285 -0.34617  0.0925   0.275   -0.095    0.21\n",
    "#  -0.0875   0.235   -0.34187  0.31408 -0.48    -0.08     0.29908  0.33176\n",
    "#  -0.58    -0.24     0.3219  -0.28475 -0.47     0.185   -0.27104 -0.31228\n",
    "#   0.40445  0.0305   1.     ]"
   ]
  },
  {
   "cell_type": "code",
   "execution_count": 3,
   "metadata": {
    "ExecuteTime": {
     "end_time": "2020-02-18T01:46:37.059831Z",
     "start_time": "2020-02-18T01:46:37.050765Z"
    }
   },
   "outputs": [
    {
     "name": "stdout",
     "output_type": "stream",
     "text": [
      "(200, 34)\n",
      "(200,)\n",
      "(151, 34)\n",
      "(151,)\n"
     ]
    }
   ],
   "source": [
    "# Divide the data points into training set and test set.\n",
    "X_shuffled = X\n",
    "Y_shuffled = Y\n",
    "X_train = X_shuffled[:200]          # Shape: (200, 34)\n",
    "Y_train = Y_shuffled[:200]          # Shape: (200,)\n",
    "X_test = X_shuffled[200:]           # Shape: (151,4)\n",
    "Y_test = Y_shuffled[200:]           # Shape: (151,)\n",
    "print(X_train.shape)\n",
    "print(Y_train.shape)\n",
    "print(X_test.shape)\n",
    "print(Y_test.shape)"
   ]
  },
  {
   "cell_type": "markdown",
   "metadata": {},
   "source": [
    "### Decision Tree Using Scikit-Learn"
   ]
  },
  {
   "cell_type": "code",
   "execution_count": 21,
   "metadata": {
    "ExecuteTime": {
     "end_time": "2020-02-18T02:20:54.163379Z",
     "start_time": "2020-02-18T02:20:53.906363Z"
    }
   },
   "outputs": [
    {
     "data": {
      "text/plain": [
       "GridSearchCV(cv=10, error_score='raise-deprecating',\n",
       "             estimator=DecisionTreeClassifier(class_weight=None,\n",
       "                                              criterion='entropy',\n",
       "                                              max_depth=None, max_features=None,\n",
       "                                              max_leaf_nodes=None,\n",
       "                                              min_impurity_decrease=0.0,\n",
       "                                              min_impurity_split=None,\n",
       "                                              min_samples_leaf=1,\n",
       "                                              min_samples_split=2,\n",
       "                                              min_weight_fraction_leaf=0.0,\n",
       "                                              presort=False, random_state=1,\n",
       "                                              splitter='best'),\n",
       "             iid='warn', n_jobs=None, param_grid={'max_depth': [1, 2, 3, 4, 5]},\n",
       "             pre_dispatch='2*n_jobs', refit=True, return_train_score=False,\n",
       "             scoring=None, verbose=0)"
      ]
     },
     "execution_count": 21,
     "metadata": {},
     "output_type": "execute_result"
    }
   ],
   "source": [
    "# Perform grid search for best max depth.\n",
    "\n",
    "# 1. Create a decision tree classifier.\n",
    "#    Hint: You can use tree.DecisionTreeClassifier()\n",
    "#          We use \"entropy\" as the criterion. The random state should be\n",
    "#          set to 1 for consistent results. Other options are left at default.\n",
    "estimator = tree.DecisionTreeClassifier(criterion='entropy',random_state=1)\n",
    "# 2. Create a grid searcher with cross-validation.\n",
    "D_list = [1, 2, 3, 4, 5]\n",
    "param_grid = {'max_depth': D_list}\n",
    "#    Hint: You can use GridSearchCV()\n",
    "#          Please set a 10-fold cross-validation.\n",
    "grid_search = GridSearchCV(estimator=estimator,param_grid=param_grid,cv=10)\n",
    "# 3. Use the grid searcher to fit the training set.\n",
    "#    - This grid searcher will try every max depth in the list. \n",
    "#    - For each max depth, a cross-validation is applied to the training set, \n",
    "#      that is, it creates several (training subset, validation subset) pairs. \n",
    "#      Note: Sometimes the validation subset is called as \"test\" subset, but it\n",
    "#            is not the subset of real test set.\n",
    "#        - For each pair, a decision tree classifier will be trained on the \n",
    "#          training subset and evaluated on validation subset.\n",
    "#        - The average validation scores will be kept.\n",
    "#    \n",
    "#    Hint: You can simply use .fit() function of the grid searcher.\n",
    "grid_search.fit(X_train,Y_train)"
   ]
  },
  {
   "cell_type": "markdown",
   "metadata": {},
   "source": [
    "### Visualize the Results"
   ]
  },
  {
   "cell_type": "code",
   "execution_count": 22,
   "metadata": {
    "ExecuteTime": {
     "end_time": "2020-02-18T02:21:13.315954Z",
     "start_time": "2020-02-18T02:21:13.108243Z"
    }
   },
   "outputs": [
    {
     "data": {
      "image/png": "[encoded data removed]",
      "text/plain": [
       "<Figure size 144x288 with 2 Axes>"
      ]
     },
     "metadata": {
      "image/png": {
       "height": 247,
       "width": 210
      },
      "needs_background": "light"
     },
     "output_type": "display_data"
    }
   ],
   "source": [
    "# Draw heatmaps for result of grid search.\n",
    "def draw_heatmap(errors, D_list, title):\n",
    "    plt.figure(figsize = (2,4))\n",
    "    ax = sns.heatmap(errors, annot=True, fmt='.3f', yticklabels=D_list, xticklabels=[])\n",
    "    ax.collections[0].colorbar.set_label('error')\n",
    "    ax.set(ylabel='max depth D')\n",
    "    bottom, top = ax.get_ylim()\n",
    "    ax.set_ylim(bottom + 0.5, top - 0.5)\n",
    "    plt.title(title)\n",
    "    plt.show()\n",
    "\n",
    "# Draw heatmaps of cross-validation errors (in cross-validation).\n",
    "# Hint: You can use .cv_results_['mean_test_score'] to obtain \n",
    "#       cross-validation accuracy (that is, average validation accuracy over \n",
    "#       different splits in the cross-validation). You need to convert it \n",
    "#       to the error.\n",
    "#       Note that you need to reshape the results to shape (?, 1), which is \n",
    "#       needed by draw_heatmap().\n",
    "cvAccuracy= grid_search.cv_results_['mean_test_score']\n",
    "cross_val_errors = 1-cvAccuracy\n",
    "cross_val_errors=np.reshape(cross_val_errors,(5,1))\n",
    "draw_heatmap(cross_val_errors, D_list, title='cross-validation error w.r.t D')"
   ]
  },
  {
   "cell_type": "code",
   "execution_count": 28,
   "metadata": {
    "ExecuteTime": {
     "end_time": "2020-02-18T02:16:58.003521Z",
     "start_time": "2020-02-18T02:16:57.994131Z"
    }
   },
   "outputs": [
    {
     "name": "stdout",
     "output_type": "stream",
     "text": [
      "Best max depth D: {'max_depth': 4}\n",
      "Test error: 0.1258278145695364\n"
     ]
    }
   ],
   "source": [
    "# Show the best max depth.\n",
    "# Hint: You can use the .best_params_ of the grid searcher \n",
    "#       to obtain the best parameter(s).\n",
    "best_max_depth = grid_search.best_params_\n",
    "print(\"Best max depth D: {}\".format(best_max_depth))\n",
    "# Calculate the test error.\n",
    "# Hint: You can use .best_estimator_.predict() to make predictions.\n",
    "y_pred= grid_search.predict(X_test)\n",
    "test_error=1 - accuracy_score(Y_test, y_pred)\n",
    "print(\"Test error: {}\".format(test_error))"
   ]
  },
  {
   "cell_type": "code",
   "execution_count": null,
   "metadata": {},
   "outputs": [],
   "source": []
  }
 ],
 "metadata": {
  "kernelspec": {
   "display_name": "Python 3",
   "language": "python",
   "name": "python3"
  },
  "language_info": {
   "codemirror_mode": {
    "name": "ipython",
    "version": 3
   },
   "file_extension": ".py",
   "mimetype": "text/x-python",
   "name": "python",
   "nbconvert_exporter": "python",
   "pygments_lexer": "ipython3",
   "version": "3.7.3"
  },
  "toc": {
   "base_numbering": 1,
   "nav_menu": {
    "height": "63px",
    "width": "252px"
   },
   "number_sections": true,
   "sideBar": true,
   "skip_h1_title": false,
   "title_cell": "Table of Contents",
   "title_sidebar": "Contents",
   "toc_cell": false,
   "toc_position": {},
   "toc_section_display": "block",
   "toc_window_display": false
  }
 },
 "nbformat": 4,
 "nbformat_minor": 2
}
