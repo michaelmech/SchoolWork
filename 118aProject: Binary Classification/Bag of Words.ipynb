{
 "cells": [
  {
   "cell_type": "markdown",
   "metadata": {},
   "source": [
    "## Modifying Data to be Usable"
   ]
  },
  {
   "cell_type": "code",
   "execution_count": 1,
   "metadata": {},
   "outputs": [
    {
     "name": "stdout",
     "output_type": "stream",
     "text": [
      "# of introvert comments are 3761\n",
      "# of extrovert comments are 2774\n"
     ]
    }
   ],
   "source": [
    "import pandas as pd\n",
    "Ecsv=pd.read_csv('Edata.csv') \n",
    "Icsv=pd.read_csv('Idata.csv') \n",
    "EIcsv=pd.concat([Ecsv,Icsv])\n",
    "rowInd=pd.Series(range(len(EIcsv)))\n",
    "EIcsv=EIcsv.set_index(rowInd)\n",
    "EIcsv=EIcsv.drop(['Unnamed: 0'],axis=1)\n",
    "labels=EIcsv.iloc[:,0]\n",
    "comments=EIcsv.iloc[:,1]\n",
    "comments=pd.Series(comments) #count-vectorizer cannot understand dataframes, but can with series\n",
    "print('# of introvert comments are',Icsv.shape[0])\n",
    "print('# of extrovert comments are',Ecsv.shape[0])"
   ]
  },
  {
   "cell_type": "markdown",
   "metadata": {},
   "source": [
    "### Bag of Words"
   ]
  },
  {
   "cell_type": "code",
   "execution_count": 2,
   "metadata": {},
   "outputs": [
    {
     "name": "stdout",
     "output_type": "stream",
     "text": [
      "Shapes of word frequency matrix: (6535, 2500)\n"
     ]
    }
   ],
   "source": [
    "from sklearn.feature_extraction.text import CountVectorizer\n",
    "countvec=CountVectorizer(analyzer='word',stop_words='english',max_features=2500) #create wordfreq-matrix with dim=2500\n",
    "SpComments=countvec.fit_transform(comments)\n",
    "print('Shapes of word frequency matrix:',SpComments.shape)"
   ]
  },
  {
   "cell_type": "markdown",
   "metadata": {},
   "source": [
    "### PCA(via Latent Semantic Analysis)"
   ]
  },
  {
   "cell_type": "code",
   "execution_count": 3,
   "metadata": {},
   "outputs": [
    {
     "name": "stdout",
     "output_type": "stream",
     "text": [
      "Shape of LSA matrix: (6535, 100)\n"
     ]
    }
   ],
   "source": [
    "from sklearn.decomposition import TruncatedSVD\n",
    "LSA=TruncatedSVD(n_components=100) #we choose 100 principal components\n",
    "LSA=LSA.fit_transform(SpComments)\n",
    "print('Shape of LSA matrix:',LSA.shape)"
   ]
  },
  {
   "cell_type": "markdown",
   "metadata": {},
   "source": [
    "### Initializations"
   ]
  },
  {
   "cell_type": "code",
   "execution_count": 4,
   "metadata": {},
   "outputs": [],
   "source": [
    "from sklearn.model_selection import train_test_split\n",
    "from sklearn.linear_model import LogisticRegression\n",
    "from sklearn.neighbors import KNeighborsClassifier\n",
    "from sklearn.svm import LinearSVC\n",
    "from sklearn.model_selection import GridSearchCV\n",
    "from sklearn.model_selection import RandomizedSearchCV\n",
    "from scipy.stats import uniform\n",
    "import numpy as np\n",
    "from sklearn.metrics import accuracy_score\n",
    "from sklearn.utils import shuffle\n",
    "import seaborn as sns       \n",
    "\n",
    "## initialize models\n",
    "logreg=LogisticRegression(class_weight='balanced',solver='liblinear')\n",
    "linsvm=LinearSVC(class_weight='balanced')\n",
    "neigh = KNeighborsClassifier(n_neighbors=3)\n",
    "\n",
    "##lists to loop over \n",
    "datasets=[SpComments,LSA]\n",
    "trials=[1,2,3]\n",
    "splits=[0.8,0.5,0.2]\n"
   ]
  },
  {
   "cell_type": "markdown",
   "metadata": {},
   "source": [
    "### Logistic Regression"
   ]
  },
  {
   "cell_type": "code",
   "execution_count": 5,
   "metadata": {},
   "outputs": [
    {
     "name": "stdout",
     "output_type": "stream",
     "text": [
      "0.02230875031552168\n"
     ]
    },
    {
     "data": {
      "image/png": "[encoded data removed]",
      "text/plain": [
       "<Figure size 432x288 with 2 Axes>"
      ]
     },
     "metadata": {
      "needs_background": "light"
     },
     "output_type": "display_data"
    }
   ],
   "source": [
    "logreg_grid=dict(C=[0.1,1,4,8],penalty=['l2', 'l1'])\n",
    "test_scores=[]\n",
    "valid_scores=[]\n",
    "train_scores=[]\n",
    "for data in datasets:\n",
    "    for trial in trials:\n",
    "        for split in splits:    \n",
    "            train_comments, test_comments= train_test_split(data,test_size=split,random_state=trial)\n",
    "            train_labels, test_labels = train_test_split(labels,test_size=split,random_state=trial)\n",
    "            trainMod=logreg.fit(train_comments,train_labels) #train logreg without cv\n",
    "            TrainScore=trainMod.score(train_comments,train_labels)\n",
    "            train_scores.append(TrainScore)\n",
    "            GrdSrch = GridSearchCV(logreg, logreg_grid,cv=5,n_jobs=6) #cross-validate\n",
    "            tuned=GrdSrch.fit(train_comments,train_labels)\n",
    "            valid_scores.append(max(tuned.cv_results_['mean_test_score']))\n",
    "            BestParams =tuned.best_params_\n",
    "            TrainTuned=logreg.set_params(**BestParams)  #train logreg using tuned parameters from cv(with 60)\n",
    "            TrainTuned.fit(train_comments,train_labels)\n",
    "            pred_labels=TrainTuned.predict(test_comments)  #test logreg using tuned parameters \n",
    "            test_scores.append(accuracy_score(test_labels,pred_labels))\n",
    "from statistics import mean\n",
    "logregVar=mean(tuned.cv_results_['std_test_score'])\n",
    "print(logregVar)\n",
    "LogRegpvt = pd.pivot_table(pd.DataFrame(GrdSrch.cv_results_),\n",
    "                     values='mean_test_score', index='param_C', columns='param_penalty')\n",
    "LogRegHM = sns.heatmap(LogRegpvt,annot=True)\n",
    "\n",
    "\n"
   ]
  },
  {
   "cell_type": "code",
   "execution_count": 6,
   "metadata": {},
   "outputs": [
    {
     "name": "stdout",
     "output_type": "stream",
     "text": [
      "     Training  Validation      Test\n",
      ".8   0.842160    0.700238  0.728374\n",
      "0.5  0.819463    0.721559  0.709056\n",
      "0.2  0.809248    0.710591  0.724103\n",
      "     Training  Validation      Test\n",
      ".8   0.718450    0.718450  0.705498\n",
      "0.5  0.732363    0.732363  0.696598\n",
      "0.2  0.725464    0.725464  0.701354\n",
      "           Train  Validation      Test\n",
      "Sparse  0.823624    0.710796  0.720511\n",
      "LSA     0.726395    0.703198  0.702528\n"
     ]
    }
   ],
   "source": [
    "from statistics import mean\n",
    "sparseTrAvgs=[mean(train_scores[0:3]),mean(train_scores[3:6]),mean(train_scores[6:9])]\n",
    "sparseValAvgs=[mean(valid_scores[0:3]),mean(valid_scores[3:6]),mean(valid_scores[6:9])]\n",
    "sparseTeAvgs=[mean(test_scores[0:3]),mean(test_scores[3:6]),mean(test_scores[6:9])]\n",
    "LSATrAvgs=[mean(train_scores[9:12]),mean(train_scores[12:15]),mean(train_scores[15:18])]\n",
    "LSAValAvgs=LSATrAvgs=[mean(train_scores[9:12]),mean(train_scores[12:15]),mean(train_scores[15:18])]\n",
    "LSATeAvgs=[mean(test_scores[9:12]),mean(test_scores[12:15]),mean(test_scores[15:18])]\n",
    "LogRegSAvgs=pd.DataFrame(list(zip(sparseTrAvgs,sparseValAvgs,sparseTeAvgs)),index=['.8','0.5','0.2'],columns=['Training','Validation'\n",
    "                                                                                                      ,'Test'])\n",
    "LogRegLSAAvgs=pd.DataFrame(list(zip(LSATrAvgs,LSAValAvgs,LSATeAvgs)),index=['.8','0.5','0.2'],columns=['Training','Validation'\n",
    "                                                                                                      ,'Test'])\n",
    "print(LogRegSAvgs)\n",
    "print(LogRegLSAAvgs)\n",
    "## 2 datasets, 3 partitions, 3 trials is 18 scores per type of score\n",
    "#scores 0-9: SpComments, scores 10-18: LSA\n",
    "\n",
    "TrAvgs=[mean(train_scores[0:9]),mean(train_scores[10:18])]\n",
    "ValAvgs=[mean(valid_scores[0:9]),mean(valid_scores[10:18])]\n",
    "TestAvgs=[mean(test_scores[0:9]),mean(test_scores[10:18])]\n",
    "\n",
    "LogRegAvgs=pd.DataFrame(list(zip(TrAvgs,ValAvgs,TestAvgs)),index=['Sparse','LSA'],columns=['Train','Validation','Test'])\n",
    "print(LogRegAvgs)"
   ]
  },
  {
   "cell_type": "markdown",
   "metadata": {},
   "source": [
    "## K-Nearest Neighbors"
   ]
  },
  {
   "cell_type": "code",
   "execution_count": 7,
   "metadata": {},
   "outputs": [
    {
     "name": "stdout",
     "output_type": "stream",
     "text": [
      "0.014874996545139617\n"
     ]
    },
    {
     "data": {
      "image/png": "[encoded data removed]",
      "text/plain": [
       "<Figure size 432x288 with 2 Axes>"
      ]
     },
     "metadata": {
      "needs_background": "light"
     },
     "output_type": "display_data"
    }
   ],
   "source": [
    "neigh_grid = {'n_neighbors': np.arange(1, 8), 'weights': ['uniform','distance']}\n",
    "test_scores=[]\n",
    "valid_scores=[]\n",
    "train_scores=[]\n",
    "for data in datasets:\n",
    "    for trial in trials:\n",
    "        for split in splits:    \n",
    "            train_comments, test_comments= train_test_split(data,test_size=split,random_state=trial)\n",
    "            train_labels, test_labels = train_test_split(labels,test_size=split,random_state=trial)\n",
    "            trainMod=neigh.fit(train_comments,train_labels) #train neigh without cv\n",
    "            TrainScore=trainMod.score(train_comments,train_labels)\n",
    "            train_scores.append(TrainScore)\n",
    "            GrdSrch = GridSearchCV(neigh, neigh_grid,cv=5,n_jobs=6) #cross-validate\n",
    "            tuned=GrdSrch.fit(train_comments,train_labels)\n",
    "            valid_scores.append(max(tuned.cv_results_['mean_test_score']))\n",
    "            BestParams =tuned.best_params_\n",
    "            TrainTuned=neigh.set_params(**BestParams)  #train neigh using tuned parameters from cv\n",
    "            TrainTuned.fit(train_comments,train_labels)\n",
    "            pred_labels=TrainTuned.predict(test_comments)  #test neigh using tuned parameters \n",
    "            test_scores.append(accuracy_score(test_labels,pred_labels))\n",
    "KNNVar=mean(tuned.cv_results_['std_test_score'])\n",
    "print(KNNVar)\n",
    "KNNpvt = pd.pivot_table(pd.DataFrame(GrdSrch.cv_results_),\n",
    "                     values='mean_test_score', index='param_n_neighbors', columns='param_weights')\n",
    "KNNHM = sns.heatmap(KNNpvt,annot=True)"
   ]
  },
  {
   "cell_type": "code",
   "execution_count": 8,
   "metadata": {},
   "outputs": [
    {
     "name": "stdout",
     "output_type": "stream",
     "text": [
      "     Training  Validation      Test\n",
      ".8   0.755626    0.626614  0.629769\n",
      "0.5  0.847389    0.627549  0.610911\n",
      "0.2  0.734240    0.625451  0.627639\n",
      "     Training  Validation      Test\n",
      ".8   0.797792    0.797792  0.642992\n",
      "0.5  0.724406    0.724406  0.632537\n",
      "0.2  0.724277    0.724277  0.619288\n",
      "           Train  Validation      Test\n",
      "Sparse  0.779085    0.626538  0.622773\n",
      "LSA     0.753484    0.638236  0.631893\n"
     ]
    }
   ],
   "source": [
    "sparseTrAvgs=[mean(train_scores[0:3]),mean(train_scores[3:6]),mean(train_scores[6:9])]\n",
    "sparseValAvgs=[mean(valid_scores[0:3]),mean(valid_scores[3:6]),mean(valid_scores[6:9])]\n",
    "sparseTeAvgs=[mean(test_scores[0:3]),mean(test_scores[3:6]),mean(test_scores[6:9])]\n",
    "LSATrAvgs=[mean(train_scores[9:12]),mean(train_scores[12:15]),mean(train_scores[15:18])]\n",
    "LSAValAvgs=LSATrAvgs=[mean(train_scores[9:12]),mean(train_scores[12:15]),mean(train_scores[15:18])]\n",
    "LSATeAvgs=[mean(test_scores[9:12]),mean(test_scores[12:15]),mean(test_scores[15:18])]\n",
    "\n",
    "KNNSAvgs=pd.DataFrame(list(zip(sparseTrAvgs,sparseValAvgs,sparseTeAvgs)),index=['.8','0.5','0.2'],columns=['Training','Validation'\n",
    "                                                                                                      ,'Test'])\n",
    "KNNLSAAvgs=pd.DataFrame(list(zip(LSATrAvgs,LSAValAvgs,LSATeAvgs)),index=['.8','0.5','0.2'],columns=['Training','Validation'\n",
    "                                                                                                      ,'Test'])\n",
    "\n",
    "print(KNNSAvgs)\n",
    "print(KNNLSAAvgs)\n",
    "## 2 datasets, 3 partitions, 3 trials is 18 scores per type of score\n",
    "#scores 0-9: SpComments, scores 10-18: LSA\n",
    "\n",
    "TrAvgs=[mean(train_scores[0:9]),mean(train_scores[10:18])]\n",
    "ValAvgs=[mean(valid_scores[0:9]),mean(valid_scores[10:18])]\n",
    "TestAvgs=[mean(test_scores[0:9]),mean(test_scores[10:18])]\n",
    "\n",
    "KNNAvgs=pd.DataFrame(list(zip(TrAvgs,ValAvgs,TestAvgs)),index=['Sparse','LSA'],columns=['Train','Validation','Test'])\n",
    "print(KNNAvgs)"
   ]
  },
  {
   "cell_type": "markdown",
   "metadata": {},
   "source": [
    "## Support Vector Machine"
   ]
  },
  {
   "cell_type": "code",
   "execution_count": 9,
   "metadata": {},
   "outputs": [
    {
     "name": "stderr",
     "output_type": "stream",
     "text": [
      "C:\\Users\\Admin\\anaconda3\\lib\\site-packages\\sklearn\\svm\\_base.py:947: ConvergenceWarning: Liblinear failed to converge, increase the number of iterations.\n",
      "  \"the number of iterations.\", ConvergenceWarning)\n",
      "C:\\Users\\Admin\\anaconda3\\lib\\site-packages\\sklearn\\svm\\_base.py:947: ConvergenceWarning: Liblinear failed to converge, increase the number of iterations.\n",
      "  \"the number of iterations.\", ConvergenceWarning)\n",
      "C:\\Users\\Admin\\anaconda3\\lib\\site-packages\\sklearn\\svm\\_base.py:947: ConvergenceWarning: Liblinear failed to converge, increase the number of iterations.\n",
      "  \"the number of iterations.\", ConvergenceWarning)\n"
     ]
    }
   ],
   "source": [
    "linsvm_grid=dict(C=[.01,0.5,1,4,10]) \n",
    "test_scores=[]\n",
    "valid_scores=[]\n",
    "train_scores=[]\n",
    "for data in datasets:\n",
    "    for trial in trials:\n",
    "        for split in splits:    \n",
    "            train_comments, test_comments= train_test_split(data,test_size=split,random_state=trial)\n",
    "            train_labels, test_labels = train_test_split(labels,test_size=split,random_state=trial)\n",
    "            trainMod=linsvm.fit(train_comments,train_labels) #train linsvm without cv\n",
    "            TrainScore=trainMod.score(train_comments,train_labels)\n",
    "            train_scores.append(TrainScore)\n",
    "            GrdSrch = GridSearchCV(linsvm, linsvm_grid,cv=5,n_jobs=6) #cross-validate with 4 param-iterations\n",
    "            tuned=GrdSrch.fit(train_comments,train_labels)\n",
    "            valid_scores.append(max(tuned.cv_results_['mean_test_score']))\n",
    "            BestParams =tuned.best_params_\n",
    "            TrainTuned=linsvm.set_params(**BestParams)  #train linsvm using tuned parameters from cv\n",
    "            TrainTuned.fit(train_comments,train_labels)\n",
    "            pred_labels=TrainTuned.predict(test_comments)  #test linsvm using tuned parameters \n",
    "            test_scores.append(accuracy_score(test_labels,pred_labels))"
   ]
  },
  {
   "cell_type": "code",
   "execution_count": 10,
   "metadata": {},
   "outputs": [
    {
     "name": "stdout",
     "output_type": "stream",
     "text": [
      "0.020358878804925255\n",
      "     Training  Validation      Test\n",
      ".8   0.852438    0.701911  0.725620\n",
      "0.5  0.814655    0.722626  0.708457\n",
      "0.2  0.804810    0.709422  0.720825\n",
      "     Training  Validation      Test\n",
      ".8   0.715377    0.715377  0.699136\n",
      "0.5  0.731407    0.731407  0.695451\n",
      "0.2  0.722455    0.722455  0.700780\n",
      "           Train  Validation      Test\n",
      "Sparse  0.823968    0.711320  0.718301\n",
      "LSA     0.724616    0.701783  0.699855\n"
     ]
    },
    {
     "data": {
      "image/png": "[encoded data removed]",
      "text/plain": [
       "<Figure size 432x288 with 2 Axes>"
      ]
     },
     "metadata": {
      "needs_background": "light"
     },
     "output_type": "display_data"
    }
   ],
   "source": [
    "SVMVar=mean(tuned.cv_results_['std_test_score'])\n",
    "print(SVMVar)\n",
    "linsvmpvt = pd.pivot_table(pd.DataFrame(GrdSrch.cv_results_),\n",
    "         values='mean_test_score', index='param_C')\n",
    "linsvmHM = sns.heatmap(linsvmpvt,annot=True)\n",
    "\n",
    "sparseTrAvgs=[mean(train_scores[0:3]),mean(train_scores[3:6]),mean(train_scores[6:9])]\n",
    "sparseValAvgs=[mean(valid_scores[0:3]),mean(valid_scores[3:6]),mean(valid_scores[6:9])]\n",
    "sparseTeAvgs=[mean(test_scores[0:3]),mean(test_scores[3:6]),mean(test_scores[6:9])]\n",
    "LSATrAvgs=[mean(train_scores[9:12]),mean(train_scores[12:15]),mean(train_scores[15:18])]\n",
    "LSAValAvgs=LSATrAvgs=[mean(train_scores[9:12]),mean(train_scores[12:15]),mean(train_scores[15:18])]\n",
    "LSATeAvgs=[mean(test_scores[9:12]),mean(test_scores[12:15]),mean(test_scores[15:18])]\n",
    "\n",
    "SVMSAvgs=pd.DataFrame(list(zip(sparseTrAvgs,sparseValAvgs,sparseTeAvgs)),index=['.8','0.5','0.2'],columns=['Training','Validation'\n",
    "                                                                                                      ,'Test'])\n",
    "SVMLSAAvgs=pd.DataFrame(list(zip(LSATrAvgs,LSAValAvgs,LSATeAvgs)),index=['.8','0.5','0.2'],columns=['Training','Validation'\n",
    "                                                                                                      ,'Test'])\n",
    "print(SVMSAvgs)\n",
    "print(SVMLSAAvgs)\n",
    "## 2 datasets, 3 partitions, 3 trials is 18 scores per type of score\n",
    "#scores 0-9: SpComments, scores 10-18: LSA\n",
    "\n",
    "TrAvgs=[mean(train_scores[0:9]),mean(train_scores[10:18])]\n",
    "ValAvgs=[mean(valid_scores[0:9]),mean(valid_scores[10:18])]\n",
    "TestAvgs=[mean(test_scores[0:9]),mean(test_scores[10:18])]\n",
    "\n",
    "linsvmAvgs=pd.DataFrame(list(zip(TrAvgs,ValAvgs,TestAvgs)),index=['Sparse','LSA'],columns=['Train','Validation','Test'])\n",
    "print(linsvmAvgs)"
   ]
  },
  {
   "cell_type": "code",
   "execution_count": 11,
   "metadata": {},
   "outputs": [
    {
     "name": "stdout",
     "output_type": "stream",
     "text": [
      "Best model for sparse train dataset is ['SVM']\n",
      "Best model for sparse validation dataset is ['SVM']\n",
      "Best model for sparse test dataset is ['LogReg']\n",
      "Best model for LSA train dataset is ['KNN-LSA']\n",
      "Best model for LSA validation dataset is ['LogReg-LSA']\n",
      "Best model for LSA test dataset is ['LogReg-LSA']\n"
     ]
    }
   ],
   "source": [
    "SparseAvgs=pd.DataFrame([LogRegAvgs.loc['Sparse'],KNNAvgs.loc['Sparse'],linsvmAvgs.loc['Sparse']],index=['LogReg','KNN','SVM'])\n",
    "LSAAvgs=pd.DataFrame([LogRegAvgs.loc['LSA'],KNNAvgs.loc['LSA'],linsvmAvgs.loc['LSA']],index=['LogReg-LSA','KNN-LSA','SVM-LSA'])\n",
    "print('Best model for sparse train dataset is',list(SparseAvgs.index[SparseAvgs.Train==max(SparseAvgs.Train)]))\n",
    "print('Best model for sparse validation dataset is',list(SparseAvgs.index[SparseAvgs.Validation==max(SparseAvgs.Validation)]))\n",
    "print('Best model for sparse test dataset is',list(SparseAvgs.index[SparseAvgs.Test==max(SparseAvgs.Test)]))\n",
    "print('Best model for LSA train dataset is',list(LSAAvgs.index[LSAAvgs.Train==max(LSAAvgs.Train)]))\n",
    "print('Best model for LSA validation dataset is',list(LSAAvgs.index[LSAAvgs.Validation==max(LSAAvgs.Validation)]))\n",
    "print('Best model for LSA test dataset is',list(LSAAvgs.index[LSAAvgs.Test==max(LSAAvgs.Test)]))"
   ]
  },
  {
   "cell_type": "code",
   "execution_count": 12,
   "metadata": {},
   "outputs": [
    {
     "data": {
      "text/html": [
       "<div>\n",
       "<style scoped>\n",
       "    .dataframe tbody tr th:only-of-type {\n",
       "        vertical-align: middle;\n",
       "    }\n",
       "\n",
       "    .dataframe tbody tr th {\n",
       "        vertical-align: top;\n",
       "    }\n",
       "\n",
       "    .dataframe thead th {\n",
       "        text-align: right;\n",
       "    }\n",
       "</style>\n",
       "<table border=\"1\" class=\"dataframe\">\n",
       "  <thead>\n",
       "    <tr style=\"text-align: right;\">\n",
       "      <th></th>\n",
       "      <th>Train</th>\n",
       "      <th>Validation</th>\n",
       "      <th>Test</th>\n",
       "    </tr>\n",
       "  </thead>\n",
       "  <tbody>\n",
       "    <tr>\n",
       "      <th>LogReg</th>\n",
       "      <td>0.823624</td>\n",
       "      <td>0.710796</td>\n",
       "      <td>0.720511</td>\n",
       "    </tr>\n",
       "    <tr>\n",
       "      <th>KNN</th>\n",
       "      <td>0.779085</td>\n",
       "      <td>0.626538</td>\n",
       "      <td>0.622773</td>\n",
       "    </tr>\n",
       "    <tr>\n",
       "      <th>SVM</th>\n",
       "      <td>0.823968</td>\n",
       "      <td>0.711320</td>\n",
       "      <td>0.718301</td>\n",
       "    </tr>\n",
       "  </tbody>\n",
       "</table>\n",
       "</div>"
      ],
      "text/plain": [
       "           Train  Validation      Test\n",
       "LogReg  0.823624    0.710796  0.720511\n",
       "KNN     0.779085    0.626538  0.622773\n",
       "SVM     0.823968    0.711320  0.718301"
      ]
     },
     "execution_count": 12,
     "metadata": {},
     "output_type": "execute_result"
    }
   ],
   "source": [
    "SparseAvgs"
   ]
  },
  {
   "cell_type": "code",
   "execution_count": 13,
   "metadata": {},
   "outputs": [
    {
     "data": {
      "text/html": [
       "<div>\n",
       "<style scoped>\n",
       "    .dataframe tbody tr th:only-of-type {\n",
       "        vertical-align: middle;\n",
       "    }\n",
       "\n",
       "    .dataframe tbody tr th {\n",
       "        vertical-align: top;\n",
       "    }\n",
       "\n",
       "    .dataframe thead th {\n",
       "        text-align: right;\n",
       "    }\n",
       "</style>\n",
       "<table border=\"1\" class=\"dataframe\">\n",
       "  <thead>\n",
       "    <tr style=\"text-align: right;\">\n",
       "      <th></th>\n",
       "      <th>Train</th>\n",
       "      <th>Validation</th>\n",
       "      <th>Test</th>\n",
       "    </tr>\n",
       "  </thead>\n",
       "  <tbody>\n",
       "    <tr>\n",
       "      <th>LogReg-LSA</th>\n",
       "      <td>0.726395</td>\n",
       "      <td>0.703198</td>\n",
       "      <td>0.702528</td>\n",
       "    </tr>\n",
       "    <tr>\n",
       "      <th>KNN-LSA</th>\n",
       "      <td>0.753484</td>\n",
       "      <td>0.638236</td>\n",
       "      <td>0.631893</td>\n",
       "    </tr>\n",
       "    <tr>\n",
       "      <th>SVM-LSA</th>\n",
       "      <td>0.724616</td>\n",
       "      <td>0.701783</td>\n",
       "      <td>0.699855</td>\n",
       "    </tr>\n",
       "  </tbody>\n",
       "</table>\n",
       "</div>"
      ],
      "text/plain": [
       "               Train  Validation      Test\n",
       "LogReg-LSA  0.726395    0.703198  0.702528\n",
       "KNN-LSA     0.753484    0.638236  0.631893\n",
       "SVM-LSA     0.724616    0.701783  0.699855"
      ]
     },
     "execution_count": 13,
     "metadata": {},
     "output_type": "execute_result"
    }
   ],
   "source": [
    "LSAAvgs"
   ]
  },
  {
   "cell_type": "code",
   "execution_count": null,
   "metadata": {},
   "outputs": [],
   "source": []
  }
 ],
 "metadata": {
  "kernelspec": {
   "display_name": "Python 2",
   "language": "python",
   "name": "python2"
  },
  "language_info": {
   "codemirror_mode": {
    "name": "ipython",
    "version": 2
   },
   "file_extension": ".py",
   "mimetype": "text/x-python",
   "name": "python",
   "nbconvert_exporter": "python",
   "pygments_lexer": "ipython2",
   "version": "2.7.16"
  }
 },
 "nbformat": 4,
 "nbformat_minor": 4
}
